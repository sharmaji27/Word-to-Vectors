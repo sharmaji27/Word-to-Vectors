{
 "cells": [
  {
   "cell_type": "code",
   "execution_count": 40,
   "metadata": {},
   "outputs": [],
   "source": [
    "# importing packages\n",
    "\n",
    "import spacy\n",
    "from scipy import spatial"
   ]
  },
  {
   "cell_type": "code",
   "execution_count": 63,
   "metadata": {},
   "outputs": [
    {
     "data": {
      "text/plain": [
       "['tagger', 'parser', 'ner']"
      ]
     },
     "execution_count": 63,
     "metadata": {},
     "output_type": "execute_result"
    }
   ],
   "source": [
    "# load the spacy english extension/library\n",
    "\n",
    "nlp = spacy.load('en_core_web_md')\n",
    "nlp.pipe_names"
   ]
  },
  {
   "cell_type": "code",
   "execution_count": 64,
   "metadata": {},
   "outputs": [
    {
     "name": "stdout",
     "output_type": "stream",
     "text": [
      "1340241\n",
      "20000\n"
     ]
    }
   ],
   "source": [
    "# md model --> 685k keys, 20k unique vectors (300 dimensions)\n",
    "# lg model --> 685k keys, 685k unique vectors (300 dimensions)\n",
    "print(len(nlp.vocab))\n",
    "print(len(nlp.vocab.vectors))"
   ]
  },
  {
   "cell_type": "code",
   "execution_count": 8,
   "metadata": {},
   "outputs": [
    {
     "data": {
      "text/plain": [
       "(300,)"
      ]
     },
     "execution_count": 8,
     "metadata": {},
     "output_type": "execute_result"
    }
   ],
   "source": [
    "# it means it has 300 dimensions\n",
    "\n",
    "nlp(u'lion').vector.shape"
   ]
  },
  {
   "cell_type": "code",
   "execution_count": 15,
   "metadata": {},
   "outputs": [
    {
     "name": "stdout",
     "output_type": "stream",
     "text": [
      "cat cat 1.0\n",
      "cat lion 0.52654374\n",
      "cat pet 0.7505456\n",
      "lion cat 0.52654374\n",
      "lion lion 1.0\n",
      "lion pet 0.39923766\n",
      "pet cat 0.7505456\n",
      "pet lion 0.39923766\n",
      "pet pet 1.0\n"
     ]
    }
   ],
   "source": [
    "tokens = nlp(u'cat lion pet')\n",
    "\n",
    "for t1 in tokens:\n",
    "    for t2 in tokens:\n",
    "        print(t1.text,t2.text,t1.similarity(t2))"
   ]
  },
  {
   "cell_type": "code",
   "execution_count": 39,
   "metadata": {},
   "outputs": [
    {
     "name": "stdout",
     "output_type": "stream",
     "text": [
      "dog True 7.0336733 False\n",
      "cat True 6.6808186 False\n",
      "sharma True 7.524998 False\n",
      "abhishek True 7.3687935 False\n"
     ]
    }
   ],
   "source": [
    "# just checking some tokens\n",
    "\n",
    "tokens = nlp(u'dog cat sharma abhishek')\n",
    "for t in tokens:\n",
    "    print(t.text,t.has_vector,t.vector_norm,t.is_oov)"
   ]
  },
  {
   "cell_type": "code",
   "execution_count": 18,
   "metadata": {},
   "outputs": [],
   "source": [
    "# we want to implement king-man+queen\n",
    "\n",
    "king = nlp(u'king').vector\n",
    "man = nlp(u'man').vector\n",
    "woman = nlp(u'woman').vector"
   ]
  },
  {
   "cell_type": "code",
   "execution_count": 19,
   "metadata": {},
   "outputs": [],
   "source": [
    "# creating the new vector\n",
    "\n",
    "new_vector = king-man+woman\n",
    "new_vector"
   ]
  },
  {
   "cell_type": "code",
   "execution_count": 41,
   "metadata": {},
   "outputs": [],
   "source": [
    "# creating a cosine similarity function\n",
    "\n",
    "cosine_similarity = lambda vec1,vec2 : 1-spatial.distance.cosine(vec1,vec2)"
   ]
  },
  {
   "cell_type": "code",
   "execution_count": 51,
   "metadata": {},
   "outputs": [],
   "source": [
    "# iterating through each and every word in the library and calculating its similarity to the new vector \n",
    "\n",
    "similarities = []\n",
    "\n",
    "for word in nlp.vocab:\n",
    "    if word.has_vector and word.is_alpha and word.is_lower:\n",
    "        similarities.append((cosine_similarity(new_vector,word.vector),word.text))"
   ]
  },
  {
   "cell_type": "code",
   "execution_count": 55,
   "metadata": {},
   "outputs": [
    {
     "name": "stdout",
     "output_type": "stream",
     "text": [
      "king\n",
      "queen\n",
      "sultan\n",
      "prince\n",
      "highness\n",
      "commoner\n",
      "sultans\n",
      "princes\n",
      "maharajas\n",
      "kumbia\n"
     ]
    }
   ],
   "source": [
    "# as we can observe that for a vector like king-man+woman we obviously expect a queen and it \n",
    "#proves to be successful in getting that\n",
    "\n",
    "for similarity,word in  sorted(similarities,reverse=True)[:10]:\n",
    "    print(word)"
   ]
  }
 ],
 "metadata": {
  "kernelspec": {
   "display_name": "Python 3",
   "language": "python",
   "name": "python3"
  },
  "language_info": {
   "codemirror_mode": {
    "name": "ipython",
    "version": 3
   },
   "file_extension": ".py",
   "mimetype": "text/x-python",
   "name": "python",
   "nbconvert_exporter": "python",
   "pygments_lexer": "ipython3",
   "version": "3.7.1"
  }
 },
 "nbformat": 4,
 "nbformat_minor": 2
}
